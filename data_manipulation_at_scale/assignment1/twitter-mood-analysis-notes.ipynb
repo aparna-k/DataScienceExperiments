{
 "cells": [
  {
   "cell_type": "markdown",
   "metadata": {},
   "source": [
    "**Repo** https://github.com/aparna-k/datasci_course_materials/tree/master/assignment1"
   ]
  },
  {
   "cell_type": "markdown",
   "metadata": {},
   "source": [
    "**Step 1** - Create a twitter app and create an access token. (OAuth1)\n",
    "http://docs.inboundnow.com/guide/create-twitter-application/"
   ]
  },
  {
   "cell_type": "markdown",
   "metadata": {},
   "source": [
    "You will now copy four values into the file twitterstream.py. These values are your \"Consumer Key (API Key)\", your \"Consumer Secret (API Secret)\", your \"Access token\" and your \"Access token secret\". All four should now be visible on the \"Keys and Access Tokens\" page. (You may see \"Consumer Key (API Key)\" referred to as either \"Consumer key\" or \"API Key\" in some places in the code or on the web; all three are synonyms.) Open twitterstream.py and set the variables corresponding to the api key, api secret, access token, and access secret. You will see code like the below:"
   ]
  },
  {
   "cell_type": "code",
   "execution_count": 2,
   "metadata": {
    "collapsed": true
   },
   "outputs": [],
   "source": [
    "api_key = \"<Enter api key>\" \n",
    "api_secret = \"<Enter api secret>\" \n",
    "access_token_key = \"<Enter your access token key here>\" \n",
    "access_token_secret = \"<Enter your access token secret here>\""
   ]
  },
  {
   "cell_type": "markdown",
   "metadata": {},
   "source": [
    "Since I don't want my access token on a public Github repo, I'm creating the following four env variables and using that in the code.\n",
    "\n",
    "```bash\n",
    "export TWITTER_API_KEY=\"xxxx\"\n",
    "export TWITTER_API_SECRET=\"xxxx\"\n",
    "export TWITTER_ACCESS_TOKEN_KEY=\"xxx\"\n",
    "export TWITTER_ACCESS_TOKEN_SECRET=\"xxx\"\n",
    "```\n",
    "\n",
    "Then in the file `twitterstream.py`\n",
    "\n",
    "```python\n",
    "api_key = os.environ.get('TWITTER_API_KEY')\n",
    "api_secret = os.environ.get('TWITTER_API_SECRET')\n",
    "access_token_key = os.environ.get('TWITTER_ACCESS_TOKEN_KEY')\n",
    "access_token_secret = os.environ.get('TWITTER_ACCESS_TOKEN_SECRET')\n",
    "```"
   ]
  },
  {
   "cell_type": "code",
   "execution_count": null,
   "metadata": {
    "collapsed": true
   },
   "outputs": [],
   "source": []
  },
  {
   "cell_type": "code",
   "execution_count": null,
   "metadata": {
    "collapsed": true
   },
   "outputs": [],
   "source": []
  }
 ],
 "metadata": {
  "kernelspec": {
   "display_name": "DataScience",
   "language": "python",
   "name": "datascience"
  },
  "language_info": {
   "codemirror_mode": {
    "name": "ipython",
    "version": 2
   },
   "file_extension": ".py",
   "mimetype": "text/x-python",
   "name": "python",
   "nbconvert_exporter": "python",
   "pygments_lexer": "ipython2",
   "version": "2.7.13"
  }
 },
 "nbformat": 4,
 "nbformat_minor": 2
}
